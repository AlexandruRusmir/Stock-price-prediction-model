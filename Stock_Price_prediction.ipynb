{
  "nbformat": 4,
  "nbformat_minor": 0,
  "metadata": {
    "colab": {
      "provenance": []
    },
    "kernelspec": {
      "name": "python3",
      "display_name": "Python 3"
    },
    "language_info": {
      "name": "python"
    }
  },
  "cells": [
    {
      "cell_type": "code",
      "source": [
        "!pip install yfinance"
      ],
      "metadata": {
        "id": "zV23iCcy29oE",
        "colab": {
          "base_uri": "https://localhost:8080/"
        },
        "outputId": "36a7097a-0dd7-42d1-f666-94203776c804"
      },
      "execution_count": 2,
      "outputs": [
        {
          "output_type": "stream",
          "name": "stdout",
          "text": [
            "Looking in indexes: https://pypi.org/simple, https://us-python.pkg.dev/colab-wheels/public/simple/\n",
            "Collecting yfinance\n",
            "  Downloading yfinance-0.2.4-py2.py3-none-any.whl (51 kB)\n",
            "\u001b[2K     \u001b[90m━━━━━━━━━━━━━━━━━━━━━━━━━━━━━━━━━━━━━━━━\u001b[0m \u001b[32m51.4/51.4 KB\u001b[0m \u001b[31m1.5 MB/s\u001b[0m eta \u001b[36m0:00:00\u001b[0m\n",
            "\u001b[?25hRequirement already satisfied: appdirs>=1.4.4 in /usr/local/lib/python3.8/dist-packages (from yfinance) (1.4.4)\n",
            "Requirement already satisfied: numpy>=1.16.5 in /usr/local/lib/python3.8/dist-packages (from yfinance) (1.21.6)\n",
            "Collecting requests>=2.26\n",
            "  Downloading requests-2.28.2-py3-none-any.whl (62 kB)\n",
            "\u001b[2K     \u001b[90m━━━━━━━━━━━━━━━━━━━━━━━━━━━━━━━━━━━━━━━━\u001b[0m \u001b[32m62.8/62.8 KB\u001b[0m \u001b[31m3.1 MB/s\u001b[0m eta \u001b[36m0:00:00\u001b[0m\n",
            "\u001b[?25hRequirement already satisfied: multitasking>=0.0.7 in /usr/local/lib/python3.8/dist-packages (from yfinance) (0.0.11)\n",
            "Collecting cryptography>=3.3.2\n",
            "  Downloading cryptography-39.0.0-cp36-abi3-manylinux_2_24_x86_64.whl (4.1 MB)\n",
            "\u001b[2K     \u001b[90m━━━━━━━━━━━━━━━━━━━━━━━━━━━━━━━━━━━━━━━━\u001b[0m \u001b[32m4.1/4.1 MB\u001b[0m \u001b[31m27.3 MB/s\u001b[0m eta \u001b[36m0:00:00\u001b[0m\n",
            "\u001b[?25hRequirement already satisfied: pytz>=2022.5 in /usr/local/lib/python3.8/dist-packages (from yfinance) (2022.7)\n",
            "Collecting frozendict>=2.3.4\n",
            "  Downloading frozendict-2.3.4-cp38-cp38-manylinux_2_17_x86_64.manylinux2014_x86_64.whl (110 kB)\n",
            "\u001b[2K     \u001b[90m━━━━━━━━━━━━━━━━━━━━━━━━━━━━━━━━━━━━━━━\u001b[0m \u001b[32m111.0/111.0 KB\u001b[0m \u001b[31m6.6 MB/s\u001b[0m eta \u001b[36m0:00:00\u001b[0m\n",
            "\u001b[?25hCollecting html5lib>=1.1\n",
            "  Downloading html5lib-1.1-py2.py3-none-any.whl (112 kB)\n",
            "\u001b[2K     \u001b[90m━━━━━━━━━━━━━━━━━━━━━━━━━━━━━━━━━━━━━━━\u001b[0m \u001b[32m112.2/112.2 KB\u001b[0m \u001b[31m4.3 MB/s\u001b[0m eta \u001b[36m0:00:00\u001b[0m\n",
            "\u001b[?25hCollecting beautifulsoup4>=4.11.1\n",
            "  Downloading beautifulsoup4-4.11.1-py3-none-any.whl (128 kB)\n",
            "\u001b[2K     \u001b[90m━━━━━━━━━━━━━━━━━━━━━━━━━━━━━━━━━━━━━━━\u001b[0m \u001b[32m128.2/128.2 KB\u001b[0m \u001b[31m6.4 MB/s\u001b[0m eta \u001b[36m0:00:00\u001b[0m\n",
            "\u001b[?25hRequirement already satisfied: lxml>=4.9.1 in /usr/local/lib/python3.8/dist-packages (from yfinance) (4.9.2)\n",
            "Requirement already satisfied: pandas>=1.3.0 in /usr/local/lib/python3.8/dist-packages (from yfinance) (1.3.5)\n",
            "Collecting soupsieve>1.2\n",
            "  Downloading soupsieve-2.3.2.post1-py3-none-any.whl (37 kB)\n",
            "Requirement already satisfied: cffi>=1.12 in /usr/local/lib/python3.8/dist-packages (from cryptography>=3.3.2->yfinance) (1.15.1)\n",
            "Requirement already satisfied: webencodings in /usr/local/lib/python3.8/dist-packages (from html5lib>=1.1->yfinance) (0.5.1)\n",
            "Requirement already satisfied: six>=1.9 in /usr/local/lib/python3.8/dist-packages (from html5lib>=1.1->yfinance) (1.15.0)\n",
            "Requirement already satisfied: python-dateutil>=2.7.3 in /usr/local/lib/python3.8/dist-packages (from pandas>=1.3.0->yfinance) (2.8.2)\n",
            "Requirement already satisfied: urllib3<1.27,>=1.21.1 in /usr/local/lib/python3.8/dist-packages (from requests>=2.26->yfinance) (1.24.3)\n",
            "Requirement already satisfied: idna<4,>=2.5 in /usr/local/lib/python3.8/dist-packages (from requests>=2.26->yfinance) (2.10)\n",
            "Requirement already satisfied: charset-normalizer<4,>=2 in /usr/local/lib/python3.8/dist-packages (from requests>=2.26->yfinance) (2.1.1)\n",
            "Requirement already satisfied: certifi>=2017.4.17 in /usr/local/lib/python3.8/dist-packages (from requests>=2.26->yfinance) (2022.12.7)\n",
            "Requirement already satisfied: pycparser in /usr/local/lib/python3.8/dist-packages (from cffi>=1.12->cryptography>=3.3.2->yfinance) (2.21)\n",
            "Installing collected packages: soupsieve, requests, html5lib, frozendict, cryptography, beautifulsoup4, yfinance\n",
            "  Attempting uninstall: requests\n",
            "    Found existing installation: requests 2.25.1\n",
            "    Uninstalling requests-2.25.1:\n",
            "      Successfully uninstalled requests-2.25.1\n",
            "  Attempting uninstall: html5lib\n",
            "    Found existing installation: html5lib 1.0.1\n",
            "    Uninstalling html5lib-1.0.1:\n",
            "      Successfully uninstalled html5lib-1.0.1\n",
            "  Attempting uninstall: beautifulsoup4\n",
            "    Found existing installation: beautifulsoup4 4.6.3\n",
            "    Uninstalling beautifulsoup4-4.6.3:\n",
            "      Successfully uninstalled beautifulsoup4-4.6.3\n",
            "Successfully installed beautifulsoup4-4.11.1 cryptography-39.0.0 frozendict-2.3.4 html5lib-1.1 requests-2.28.2 soupsieve-2.3.2.post1 yfinance-0.2.4\n"
          ]
        }
      ]
    },
    {
      "cell_type": "markdown",
      "source": [
        "Importam librariile necesare:"
      ],
      "metadata": {
        "id": "ID2tx55P5-1K"
      }
    },
    {
      "cell_type": "code",
      "execution_count": 4,
      "metadata": {
        "id": "S8QfcqH0x6ox"
      },
      "outputs": [],
      "source": [
        "import pandas as pd\n",
        "import yfinance as yf\n",
        "from datetime import datetime, timedelta\n",
        "import math\n",
        "import numpy as np\n",
        "from sklearn.preprocessing import MinMaxScaler\n",
        "from tensorflow.keras.models import Sequential\n",
        "from tensorflow.keras.layers import Dense, LSTM, Dropout\n",
        "import matplotlib.pyplot as plt\n",
        "plt.style.use('classic')"
      ]
    },
    {
      "cell_type": "markdown",
      "source": [
        "Luam datele corespunzatoare pretului actiunilor companiei:"
      ],
      "metadata": {
        "id": "MQpm3zsS68_1"
      }
    },
    {
      "cell_type": "code",
      "source": [
        "company = 'TSLA'\n",
        "end = datetime(2023, 1, 11)\n",
        "start = datetime(2012, 1, 1)\n",
        "\n",
        "df = yf.download(tickers=company, start=start, end=end)\n",
        "print(df)\n",
        "print(df.shape)"
      ],
      "metadata": {
        "colab": {
          "base_uri": "https://localhost:8080/"
        },
        "id": "Pv5wLAjI0mfp",
        "outputId": "a9d8ac70-01b7-44e1-c954-ad3a963726c1"
      },
      "execution_count": 23,
      "outputs": [
        {
          "output_type": "stream",
          "name": "stdout",
          "text": [
            "\r[*********************100%***********************]  1 of 1 completed\n",
            "                                 Open        High         Low       Close  \\\n",
            "Date                                                                        \n",
            "2012-01-03 00:00:00-05:00    1.929333    1.966667    1.843333    1.872000   \n",
            "2012-01-04 00:00:00-05:00    1.880667    1.911333    1.833333    1.847333   \n",
            "2012-01-05 00:00:00-05:00    1.850667    1.862000    1.790000    1.808000   \n",
            "2012-01-06 00:00:00-05:00    1.813333    1.852667    1.760667    1.794000   \n",
            "2012-01-09 00:00:00-05:00    1.800000    1.832667    1.741333    1.816667   \n",
            "...                               ...         ...         ...         ...   \n",
            "2023-01-04 00:00:00-05:00  109.110001  114.589996  107.519997  113.639999   \n",
            "2023-01-05 00:00:00-05:00  110.510002  111.750000  107.160004  110.339996   \n",
            "2023-01-06 00:00:00-05:00  103.000000  114.389999  101.809998  113.059998   \n",
            "2023-01-09 00:00:00-05:00  118.959999  123.519997  117.110001  119.769997   \n",
            "2023-01-10 00:00:00-05:00  121.070000  122.760002  114.919998  118.849998   \n",
            "\n",
            "                            Adj Close     Volume  \n",
            "Date                                              \n",
            "2012-01-03 00:00:00-05:00    1.872000   13921500  \n",
            "2012-01-04 00:00:00-05:00    1.847333    9451500  \n",
            "2012-01-05 00:00:00-05:00    1.808000   15082500  \n",
            "2012-01-06 00:00:00-05:00    1.794000   14794500  \n",
            "2012-01-09 00:00:00-05:00    1.816667   13455000  \n",
            "...                               ...        ...  \n",
            "2023-01-04 00:00:00-05:00  113.639999  180389000  \n",
            "2023-01-05 00:00:00-05:00  110.339996  157986300  \n",
            "2023-01-06 00:00:00-05:00  113.059998  220575900  \n",
            "2023-01-09 00:00:00-05:00  119.769997  190284000  \n",
            "2023-01-10 00:00:00-05:00  118.849998  167642500  \n",
            "\n",
            "[2774 rows x 6 columns]\n",
            "(2774, 6)\n"
          ]
        }
      ]
    },
    {
      "cell_type": "markdown",
      "source": [
        "Vizualizam istoria pretului maxim al actiunii din fiecare zi:"
      ],
      "metadata": {
        "id": "Q__GSFGN8Epu"
      }
    },
    {
      "cell_type": "code",
      "source": [
        "plt.figure(figsize=(16, 8))\n",
        "plt.title('Max Price')\n",
        "plt.plot(df['High'])\n",
        "plt.xlabel('Date', fontsize=18)\n",
        "plt.ylabel('Max Price', fontsize=18)\n",
        "plt.show()"
      ],
      "metadata": {
        "colab": {
          "base_uri": "https://localhost:8080/",
          "height": 604
        },
        "id": "sMN_kSCd8Gql",
        "outputId": "432e680f-842f-4887-e257-063ba2175033"
      },
      "execution_count": 24,
      "outputs": [
        {
          "output_type": "display_data",
          "data": {
            "text/plain": [
              "<Figure size 1280x640 with 1 Axes>"
            ],
            "image/png": "[encoded data removed]"
          },
          "metadata": {}
        }
      ]
    },
    {
      "cell_type": "markdown",
      "source": [
        "Cream un nou dataframe doar cu coloana 'High', corespunzatoare pretului maxim din fiecare zi"
      ],
      "metadata": {
        "id": "T4SZlrjMAENo"
      }
    },
    {
      "cell_type": "code",
      "source": [
        "data = df.filter(['High'])\n",
        "dataset = data.values\n",
        "print(dataset)"
      ],
      "metadata": {
        "colab": {
          "base_uri": "https://localhost:8080/"
        },
        "id": "c7aVA8sjAOk1",
        "outputId": "029728bb-0e44-4424-a16c-19038cce4c48"
      },
      "execution_count": 25,
      "outputs": [
        {
          "output_type": "stream",
          "name": "stdout",
          "text": [
            "[[  1.96666706]\n",
            " [  1.91133296]\n",
            " [  1.86199999]\n",
            " ...\n",
            " [114.38999939]\n",
            " [123.51999664]\n",
            " [122.76000214]]\n"
          ]
        }
      ]
    },
    {
      "cell_type": "markdown",
      "source": [
        "Antrenam modelul pe 82% din date"
      ],
      "metadata": {
        "id": "TTYGABovAqoX"
      }
    },
    {
      "cell_type": "code",
      "source": [
        "training_data_len = math.ceil(len(dataset) * 0.82)\n",
        "print(training_data_len)"
      ],
      "metadata": {
        "colab": {
          "base_uri": "https://localhost:8080/"
        },
        "id": "eYP-TCD1A-6j",
        "outputId": "08f1c93d-fb48-4358-b41a-126bbac57c17"
      },
      "execution_count": 26,
      "outputs": [
        {
          "output_type": "stream",
          "name": "stdout",
          "text": [
            "2275\n"
          ]
        }
      ]
    },
    {
      "cell_type": "markdown",
      "source": [
        "Scalam datele pentru a fi in intervalul [0, 1]"
      ],
      "metadata": {
        "id": "Xk2yNmncBJnL"
      }
    },
    {
      "cell_type": "code",
      "source": [
        "scaler = MinMaxScaler(feature_range=(0, 1))\n",
        "scaled_data = scaler.fit_transform(dataset)\n",
        "print(scaled_data)"
      ],
      "metadata": {
        "colab": {
          "base_uri": "https://localhost:8080/"
        },
        "id": "3WmO9MPfBS-r",
        "outputId": "df1a1f1f-d613-4ac8-94a1-e2497b2b65cc"
      },
      "execution_count": 27,
      "outputs": [
        {
          "output_type": "stream",
          "name": "stdout",
          "text": [
            "[[4.28069390e-04]\n",
            " [2.93993315e-04]\n",
            " [1.74458111e-04]\n",
            " ...\n",
            " [2.72832999e-01]\n",
            " [2.94955242e-01]\n",
            " [2.93113753e-01]]\n"
          ]
        }
      ]
    },
    {
      "cell_type": "markdown",
      "source": [
        "Cream setul de date pentru antrenat:\n",
        "x_train vor fi \"training features\", iar y_train vor fi \"target features\""
      ],
      "metadata": {
        "id": "ySaeUm8cB_Us"
      }
    },
    {
      "cell_type": "code",
      "source": [
        "train_data = scaled_data[0: training_data_len]\n",
        "#print(train_data)\n",
        "x_train = []\n",
        "y_train = []\n",
        "for i in range(60, len(train_data)):\n",
        "  x_train.append(train_data[i-60:i, 0])\n",
        "  y_train.append(train_data[i, 0])\n",
        "\n",
        "#print(x_train)\n",
        "#print(y_train)"
      ],
      "metadata": {
        "id": "FTcEvY8XB9R_"
      },
      "execution_count": 28,
      "outputs": []
    },
    {
      "cell_type": "markdown",
      "source": [
        "Convertim x_train si y_train sa fie array-uri din numpy"
      ],
      "metadata": {
        "id": "xK_dFBHMEPvE"
      }
    },
    {
      "cell_type": "code",
      "source": [
        "x_train, y_train = np.array(x_train), np.array(y_train)\n",
        "#print(x_train)\n",
        "#print(y_train)"
      ],
      "metadata": {
        "id": "iN4jYCBZEVP_"
      },
      "execution_count": 29,
      "outputs": []
    },
    {
      "cell_type": "markdown",
      "source": [
        "Schimbam forma, deoarece LSTM se asteaota ca datele de intrare sa fie tridimensionale [samples, time steps, features]"
      ],
      "metadata": {
        "id": "7-XxCZaxEtb9"
      }
    },
    {
      "cell_type": "code",
      "source": [
        "x_train = np.reshape(x_train, (x_train.shape[0], x_train.shape[1], 1))\n",
        "x_train.shape"
      ],
      "metadata": {
        "colab": {
          "base_uri": "https://localhost:8080/"
        },
        "id": "HsOLv8MYGG7j",
        "outputId": "b74de366-111d-465b-803c-0cd02a844811"
      },
      "execution_count": 30,
      "outputs": [
        {
          "output_type": "execute_result",
          "data": {
            "text/plain": [
              "(2215, 60, 1)"
            ]
          },
          "metadata": {},
          "execution_count": 30
        }
      ]
    },
    {
      "cell_type": "markdown",
      "source": [
        "Construim modelul LSTM"
      ],
      "metadata": {
        "id": "wfeuoZFkGbNy"
      }
    },
    {
      "cell_type": "code",
      "source": [
        "model = Sequential()\n",
        "model.add(LSTM(128, input_shape=(x_train.shape[1], 1), return_sequences=True))\n",
        "model.add(Dropout(0.2))\n",
        "model.add(LSTM(64, return_sequences=False))\n",
        "model.add(Dropout(0.2))\n",
        "model.add(Dense(32, activation='relu'))\n",
        "model.add(Dense(1))"
      ],
      "metadata": {
        "id": "KHzEIHSQGdIk"
      },
      "execution_count": 31,
      "outputs": []
    },
    {
      "cell_type": "markdown",
      "source": [
        "Compilam si antrenam modelul"
      ],
      "metadata": {
        "id": "Pquq7lsDJfML"
      }
    },
    {
      "cell_type": "code",
      "source": [
        "model.compile(optimizer='adam', loss='mean_squared_error')"
      ],
      "metadata": {
        "id": "46i4GpbmJg4f"
      },
      "execution_count": 32,
      "outputs": []
    },
    {
      "cell_type": "code",
      "source": [
        "model.fit(x_train, y_train, batch_size=1, epochs=1)"
      ],
      "metadata": {
        "colab": {
          "base_uri": "https://localhost:8080/"
        },
        "id": "pwqbpfP9J4s8",
        "outputId": "24f3c6cd-da34-4ec2-9a08-6a3b5a9d5174"
      },
      "execution_count": 33,
      "outputs": [
        {
          "output_type": "stream",
          "name": "stdout",
          "text": [
            "2215/2215 [==============================] - 93s 40ms/step - loss: 0.0011\n"
          ]
        },
        {
          "output_type": "execute_result",
          "data": {
            "text/plain": [
              "<keras.callbacks.History at 0x7f69f0166a30>"
            ]
          },
          "metadata": {},
          "execution_count": 33
        }
      ]
    },
    {
      "cell_type": "markdown",
      "source": [
        "Cream setul de date pentru test"
      ],
      "metadata": {
        "id": "XKs0MBzTwqGw"
      }
    },
    {
      "cell_type": "code",
      "source": [
        "test_data = scaled_data[training_data_len - 60:]\n",
        "#print(test_data)\n",
        "x_test = []\n",
        "y_test = dataset[training_data_len:] #valorile pe care vrem sa le prezica\n",
        "for i in range(60, len(test_data)):\n",
        "  x_test.append(test_data[i-60:i, 0])"
      ],
      "metadata": {
        "id": "HHpZ4nTlwno9"
      },
      "execution_count": 34,
      "outputs": []
    },
    {
      "cell_type": "markdown",
      "source": [
        "Convertim datele sa fie sub forma de array numpy"
      ],
      "metadata": {
        "id": "yOHW25seKSlA"
      }
    },
    {
      "cell_type": "code",
      "source": [
        "x_test = np.array(x_test)\n",
        "print(x_test.shape)"
      ],
      "metadata": {
        "colab": {
          "base_uri": "https://localhost:8080/"
        },
        "id": "1858LPuaKWBC",
        "outputId": "eb39417c-cc8d-4e7e-cd35-98120dcf9802"
      },
      "execution_count": 35,
      "outputs": [
        {
          "output_type": "stream",
          "name": "stdout",
          "text": [
            "(499, 60)\n"
          ]
        }
      ]
    },
    {
      "cell_type": "markdown",
      "source": [
        "Schimbam forma datelor, ca sa fie sub forma tridimensionala pentru modelul LSTM"
      ],
      "metadata": {
        "id": "3eeOkfk2Kbjo"
      }
    },
    {
      "cell_type": "code",
      "source": [
        "x_test = np.reshape(x_test, (x_test.shape[0], x_test.shape[1], 1)) #numarul de randuri, numarul de time steps, numar de features - doar High price\n",
        "print(x_test.shape)"
      ],
      "metadata": {
        "colab": {
          "base_uri": "https://localhost:8080/"
        },
        "id": "qSAVeMQ4KbBF",
        "outputId": "5a3af5da-c2b9-47de-ffe9-8f7695e71748"
      },
      "execution_count": 36,
      "outputs": [
        {
          "output_type": "stream",
          "name": "stdout",
          "text": [
            "(499, 60, 1)\n"
          ]
        }
      ]
    },
    {
      "cell_type": "markdown",
      "source": [
        "Luam valorile de pret prezise de model"
      ],
      "metadata": {
        "id": "PMVSG4WpLkgS"
      }
    },
    {
      "cell_type": "code",
      "source": [
        "predictions = model.predict(x_test)\n",
        "predictions = scaler.inverse_transform(predictions) #facem un unscale la valori, astfel incat sa contina valori "
      ],
      "metadata": {
        "colab": {
          "base_uri": "https://localhost:8080/"
        },
        "id": "OgfLkd_oLq-p",
        "outputId": "2fa9a081-156d-4aeb-9ff5-211622a6d737"
      },
      "execution_count": 37,
      "outputs": [
        {
          "output_type": "stream",
          "name": "stdout",
          "text": [
            "16/16 [==============================] - 2s 46ms/step\n"
          ]
        }
      ]
    },
    {
      "cell_type": "markdown",
      "source": [
        "Luam root mean squred error"
      ],
      "metadata": {
        "id": "tP9OrEd_L__d"
      }
    },
    {
      "cell_type": "code",
      "source": [
        "rmse = np.sqrt(np.mean(predictions - y_test)**2)\n",
        "print(rmse)"
      ],
      "metadata": {
        "colab": {
          "base_uri": "https://localhost:8080/"
        },
        "id": "O3DyRzRSL_MQ",
        "outputId": "b16c5a87-6ece-4a0b-b104-c1015395d757"
      },
      "execution_count": 38,
      "outputs": [
        {
          "output_type": "stream",
          "name": "stdout",
          "text": [
            "1.1640197050595331\n"
          ]
        }
      ]
    },
    {
      "cell_type": "markdown",
      "source": [
        "Afisam datele"
      ],
      "metadata": {
        "id": "23z8eApjMWjp"
      }
    },
    {
      "cell_type": "code",
      "source": [
        "train = data[:training_data_len]\n",
        "valid = data[training_data_len:]\n",
        "valid['Predictions'] = predictions\n",
        "#Vizualizam datele\n",
        "plt.figure(figsize=(16, 8))\n",
        "plt.title('Model')\n",
        "plt.xlabel('Date', fontsize=18)\n",
        "plt.ylabel('High Price', fontsize=18)\n",
        "plt.plot(train['High'])\n",
        "plt.plot(valid[['High', 'Predictions']])\n",
        "plt.legend(['Antrenament', 'Valorile adevarate', 'Predictii'], loc='upper left')\n",
        "plt.show()\n",
        "print(valid)"
      ],
      "metadata": {
        "colab": {
          "base_uri": "https://localhost:8080/",
          "height": 987
        },
        "id": "tiuSp7_3MXwM",
        "outputId": "bed73a1f-c196-4459-e9a8-c9fc7ad10a73"
      },
      "execution_count": 39,
      "outputs": [
        {
          "output_type": "stream",
          "name": "stderr",
          "text": [
            "<ipython-input-39-8fab107ca1e1>:3: SettingWithCopyWarning: \n",
            "A value is trying to be set on a copy of a slice from a DataFrame.\n",
            "Try using .loc[row_indexer,col_indexer] = value instead\n",
            "\n",
            "See the caveats in the documentation: https://pandas.pydata.org/pandas-docs/stable/user_guide/indexing.html#returning-a-view-versus-a-copy\n",
            "  valid['Predictions'] = predictions\n"
          ]
        },
        {
          "output_type": "display_data",
          "data": {
            "text/plain": [
              "<Figure size 1280x640 with 1 Axes>"
            ],
            "image/png": "[encoded data removed]"
          },
          "metadata": {}
        },
        {
          "output_type": "stream",
          "name": "stdout",
          "text": [
            "                                 High  Predictions\n",
            "Date                                              \n",
            "2021-01-19 00:00:00-05:00  283.333344   280.669678\n",
            "2021-01-20 00:00:00-05:00  286.500000   282.087952\n",
            "2021-01-21 00:00:00-05:00  285.239990   282.841980\n",
            "2021-01-22 00:00:00-05:00  282.666656   283.019287\n",
            "2021-01-25 00:00:00-05:00  300.133331   282.638062\n",
            "...                               ...          ...\n",
            "2023-01-04 00:00:00-05:00  114.589996   139.656387\n",
            "2023-01-05 00:00:00-05:00  111.750000   136.686035\n",
            "2023-01-06 00:00:00-05:00  114.389999   133.931213\n",
            "2023-01-09 00:00:00-05:00  123.519997   131.791489\n",
            "2023-01-10 00:00:00-05:00  122.760002   131.095337\n",
            "\n",
            "[499 rows x 2 columns]\n"
          ]
        }
      ]
    },
    {
      "cell_type": "markdown",
      "source": [
        "Incercam sa prezicem valoarea pentru ziua urmatoare\n",
        "\n"
      ],
      "metadata": {
        "id": "chuwrH-cN_Sm"
      }
    },
    {
      "cell_type": "code",
      "source": [
        "df2 = yf.download(tickers=company, start=start, end=end)\n",
        "high_df = df2.filter(['High'])\n",
        "#luam valorile din ultimele 60 zile si convertim df in array\n",
        "\n",
        "\n",
        "\n",
        "last_60_days = high_df[-60:].values\n",
        "#scalam datele sa fie intre 0 si 1\n",
        "last_60_days_scaled = scaler.transform(last_60_days)\n",
        "\n",
        "X_test = []\n",
        "X_test.append(last_60_days_scaled)\n",
        "X_test = np.array(X_test)\n",
        "\n",
        "X_test = np.reshape(X_test, (X_test.shape[0], X_test.shape[1], 1))\n",
        "pred_price = model.predict(X_test)\n",
        "pred_price = scaler.inverse_transform(pred_price)\n",
        "print(pred_price)"
      ],
      "metadata": {
        "colab": {
          "base_uri": "https://localhost:8080/"
        },
        "id": "qvuiW2xbOD81",
        "outputId": "b8c1c467-3461-45da-a185-5d9a33be65a5"
      },
      "execution_count": 40,
      "outputs": [
        {
          "output_type": "stream",
          "name": "stdout",
          "text": [
            "[*********************100%***********************]  1 of 1 completed\n",
            "1/1 [==============================] - 0s 27ms/step\n",
            "[[131.3453]]\n"
          ]
        }
      ]
    },
    {
      "cell_type": "code",
      "source": [
        "df3 = yf.download(tickers=company, start=end, end=end + timedelta(days=1))\n",
        "print(df3.filter(['High']))"
      ],
      "metadata": {
        "colab": {
          "base_uri": "https://localhost:8080/"
        },
        "id": "9i9OsA1SR7ze",
        "outputId": "25f4a313-a2dd-40ed-a036-18adbaf783b4"
      },
      "execution_count": 41,
      "outputs": [
        {
          "output_type": "stream",
          "name": "stdout",
          "text": [
            "\r[*********************100%***********************]  1 of 1 completed\n",
            "                                 High\n",
            "Date                                 \n",
            "2023-01-11 00:00:00-05:00  125.949997\n"
          ]
        }
      ]
    }
  ]
}