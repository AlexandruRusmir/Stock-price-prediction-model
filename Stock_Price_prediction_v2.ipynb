{
  "nbformat": 4,
  "nbformat_minor": 0,
  "metadata": {
    "colab": {
      "provenance": []
    },
    "kernelspec": {
      "name": "python3",
      "display_name": "Python 3"
    },
    "language_info": {
      "name": "python"
    }
  },
  "cells": [
    {
      "cell_type": "code",
      "source": [
        "!pip install yfinance"
      ],
      "metadata": {
        "id": "zV23iCcy29oE",
        "colab": {
          "base_uri": "https://localhost:8080/"
        },
        "outputId": "ff9b5aea-8119-481d-cffb-d5bb70b11b00"
      },
      "execution_count": 1,
      "outputs": [
        {
          "output_type": "stream",
          "name": "stdout",
          "text": [
            "Looking in indexes: https://pypi.org/simple, https://us-python.pkg.dev/colab-wheels/public/simple/\n",
            "Collecting yfinance\n",
            "  Downloading yfinance-0.2.4-py2.py3-none-any.whl (51 kB)\n",
            "\u001b[2K     \u001b[90m━━━━━━━━━━━━━━━━━━━━━━━━━━━━━━━━━━━━━━━\u001b[0m \u001b[32m51.4/51.4 KB\u001b[0m \u001b[31m642.7 kB/s\u001b[0m eta \u001b[36m0:00:00\u001b[0m\n",
            "\u001b[?25hCollecting cryptography>=3.3.2\n",
            "  Downloading cryptography-39.0.0-cp36-abi3-manylinux_2_24_x86_64.whl (4.1 MB)\n",
            "\u001b[2K     \u001b[90m━━━━━━━━━━━━━━━━━━━━━━━━━━━━━━━━━━━━━━━━\u001b[0m \u001b[32m4.1/4.1 MB\u001b[0m \u001b[31m16.1 MB/s\u001b[0m eta \u001b[36m0:00:00\u001b[0m\n",
            "\u001b[?25hRequirement already satisfied: numpy>=1.16.5 in /usr/local/lib/python3.8/dist-packages (from yfinance) (1.21.6)\n",
            "Requirement already satisfied: pandas>=1.3.0 in /usr/local/lib/python3.8/dist-packages (from yfinance) (1.3.5)\n",
            "Collecting html5lib>=1.1\n",
            "  Downloading html5lib-1.1-py2.py3-none-any.whl (112 kB)\n",
            "\u001b[2K     \u001b[90m━━━━━━━━━━━━━━━━━━━━━━━━━━━━━━━━━━━━━━━\u001b[0m \u001b[32m112.2/112.2 KB\u001b[0m \u001b[31m5.4 MB/s\u001b[0m eta \u001b[36m0:00:00\u001b[0m\n",
            "\u001b[?25hCollecting requests>=2.26\n",
            "  Downloading requests-2.28.2-py3-none-any.whl (62 kB)\n",
            "\u001b[2K     \u001b[90m━━━━━━━━━━━━━━━━━━━━━━━━━━━━━━━━━━━━━━━━\u001b[0m \u001b[32m62.8/62.8 KB\u001b[0m \u001b[31m2.0 MB/s\u001b[0m eta \u001b[36m0:00:00\u001b[0m\n",
            "\u001b[?25hCollecting beautifulsoup4>=4.11.1\n",
            "  Downloading beautifulsoup4-4.11.1-py3-none-any.whl (128 kB)\n",
            "\u001b[2K     \u001b[90m━━━━━━━━━━━━━━━━━━━━━━━━━━━━━━━━━━━━━━━\u001b[0m \u001b[32m128.2/128.2 KB\u001b[0m \u001b[31m6.5 MB/s\u001b[0m eta \u001b[36m0:00:00\u001b[0m\n",
            "\u001b[?25hCollecting frozendict>=2.3.4\n",
            "  Downloading frozendict-2.3.4-cp38-cp38-manylinux_2_17_x86_64.manylinux2014_x86_64.whl (110 kB)\n",
            "\u001b[2K     \u001b[90m━━━━━━━━━━━━━━━━━━━━━━━━━━━━━━━━━━━━━━━\u001b[0m \u001b[32m111.0/111.0 KB\u001b[0m \u001b[31m5.6 MB/s\u001b[0m eta \u001b[36m0:00:00\u001b[0m\n",
            "\u001b[?25hRequirement already satisfied: multitasking>=0.0.7 in /usr/local/lib/python3.8/dist-packages (from yfinance) (0.0.11)\n",
            "Requirement already satisfied: lxml>=4.9.1 in /usr/local/lib/python3.8/dist-packages (from yfinance) (4.9.2)\n",
            "Requirement already satisfied: appdirs>=1.4.4 in /usr/local/lib/python3.8/dist-packages (from yfinance) (1.4.4)\n",
            "Requirement already satisfied: pytz>=2022.5 in /usr/local/lib/python3.8/dist-packages (from yfinance) (2022.7)\n",
            "Collecting soupsieve>1.2\n",
            "  Downloading soupsieve-2.3.2.post1-py3-none-any.whl (37 kB)\n",
            "Requirement already satisfied: cffi>=1.12 in /usr/local/lib/python3.8/dist-packages (from cryptography>=3.3.2->yfinance) (1.15.1)\n",
            "Requirement already satisfied: six>=1.9 in /usr/local/lib/python3.8/dist-packages (from html5lib>=1.1->yfinance) (1.15.0)\n",
            "Requirement already satisfied: webencodings in /usr/local/lib/python3.8/dist-packages (from html5lib>=1.1->yfinance) (0.5.1)\n",
            "Requirement already satisfied: python-dateutil>=2.7.3 in /usr/local/lib/python3.8/dist-packages (from pandas>=1.3.0->yfinance) (2.8.2)\n",
            "Requirement already satisfied: certifi>=2017.4.17 in /usr/local/lib/python3.8/dist-packages (from requests>=2.26->yfinance) (2022.12.7)\n",
            "Requirement already satisfied: idna<4,>=2.5 in /usr/local/lib/python3.8/dist-packages (from requests>=2.26->yfinance) (2.10)\n",
            "Requirement already satisfied: urllib3<1.27,>=1.21.1 in /usr/local/lib/python3.8/dist-packages (from requests>=2.26->yfinance) (1.24.3)\n",
            "Requirement already satisfied: charset-normalizer<4,>=2 in /usr/local/lib/python3.8/dist-packages (from requests>=2.26->yfinance) (2.1.1)\n",
            "Requirement already satisfied: pycparser in /usr/local/lib/python3.8/dist-packages (from cffi>=1.12->cryptography>=3.3.2->yfinance) (2.21)\n",
            "Installing collected packages: soupsieve, requests, html5lib, frozendict, cryptography, beautifulsoup4, yfinance\n",
            "  Attempting uninstall: requests\n",
            "    Found existing installation: requests 2.25.1\n",
            "    Uninstalling requests-2.25.1:\n",
            "      Successfully uninstalled requests-2.25.1\n",
            "  Attempting uninstall: html5lib\n",
            "    Found existing installation: html5lib 1.0.1\n",
            "    Uninstalling html5lib-1.0.1:\n",
            "      Successfully uninstalled html5lib-1.0.1\n",
            "  Attempting uninstall: beautifulsoup4\n",
            "    Found existing installation: beautifulsoup4 4.6.3\n",
            "    Uninstalling beautifulsoup4-4.6.3:\n",
            "      Successfully uninstalled beautifulsoup4-4.6.3\n",
            "Successfully installed beautifulsoup4-4.11.1 cryptography-39.0.0 frozendict-2.3.4 html5lib-1.1 requests-2.28.2 soupsieve-2.3.2.post1 yfinance-0.2.4\n"
          ]
        }
      ]
    },
    {
      "cell_type": "markdown",
      "source": [
        "Importam librariile necesare:"
      ],
      "metadata": {
        "id": "ID2tx55P5-1K"
      }
    },
    {
      "cell_type": "code",
      "execution_count": 2,
      "metadata": {
        "id": "S8QfcqH0x6ox"
      },
      "outputs": [],
      "source": [
        "import pandas as pd\n",
        "import yfinance as yf\n",
        "from datetime import datetime, timedelta\n",
        "import math\n",
        "import numpy as np\n",
        "from sklearn.preprocessing import MinMaxScaler\n",
        "from tensorflow.keras.models import Sequential\n",
        "from tensorflow.keras.layers import Dense, LSTM, Dropout\n",
        "import matplotlib.pyplot as plt\n",
        "plt.style.use('classic')"
      ]
    },
    {
      "cell_type": "markdown",
      "source": [
        "Luam datele corespunzatoare pretului actiunilor companiei:"
      ],
      "metadata": {
        "id": "MQpm3zsS68_1"
      }
    },
    {
      "cell_type": "code",
      "source": [
        "company = 'TSLA'\n",
        "end = datetime(2023, 1, 11)\n",
        "start = datetime(2012, 1, 1)\n",
        "\n",
        "df = yf.download(tickers=company, start=start, end=end)\n",
        "print(df)\n",
        "print(df.shape)"
      ],
      "metadata": {
        "colab": {
          "base_uri": "https://localhost:8080/"
        },
        "id": "Pv5wLAjI0mfp",
        "outputId": "6b3e34d2-713b-4786-9ddb-459bcece11cd"
      },
      "execution_count": 24,
      "outputs": [
        {
          "output_type": "stream",
          "name": "stdout",
          "text": [
            "\r[*********************100%***********************]  1 of 1 completed\n",
            "                                 Open        High         Low       Close  \\\n",
            "Date                                                                        \n",
            "2012-01-03 00:00:00-05:00    1.929333    1.966667    1.843333    1.872000   \n",
            "2012-01-04 00:00:00-05:00    1.880667    1.911333    1.833333    1.847333   \n",
            "2012-01-05 00:00:00-05:00    1.850667    1.862000    1.790000    1.808000   \n",
            "2012-01-06 00:00:00-05:00    1.813333    1.852667    1.760667    1.794000   \n",
            "2012-01-09 00:00:00-05:00    1.800000    1.832667    1.741333    1.816667   \n",
            "...                               ...         ...         ...         ...   \n",
            "2023-01-04 00:00:00-05:00  109.110001  114.589996  107.519997  113.639999   \n",
            "2023-01-05 00:00:00-05:00  110.510002  111.750000  107.160004  110.339996   \n",
            "2023-01-06 00:00:00-05:00  103.000000  114.389999  101.809998  113.059998   \n",
            "2023-01-09 00:00:00-05:00  118.959999  123.519997  117.110001  119.769997   \n",
            "2023-01-10 00:00:00-05:00  121.070000  122.760002  114.919998  118.849998   \n",
            "\n",
            "                            Adj Close     Volume  \n",
            "Date                                              \n",
            "2012-01-03 00:00:00-05:00    1.872000   13921500  \n",
            "2012-01-04 00:00:00-05:00    1.847333    9451500  \n",
            "2012-01-05 00:00:00-05:00    1.808000   15082500  \n",
            "2012-01-06 00:00:00-05:00    1.794000   14794500  \n",
            "2012-01-09 00:00:00-05:00    1.816667   13455000  \n",
            "...                               ...        ...  \n",
            "2023-01-04 00:00:00-05:00  113.639999  180389000  \n",
            "2023-01-05 00:00:00-05:00  110.339996  157986300  \n",
            "2023-01-06 00:00:00-05:00  113.059998  220575900  \n",
            "2023-01-09 00:00:00-05:00  119.769997  190284000  \n",
            "2023-01-10 00:00:00-05:00  118.849998  167642500  \n",
            "\n",
            "[2774 rows x 6 columns]\n",
            "(2774, 6)\n"
          ]
        }
      ]
    },
    {
      "cell_type": "markdown",
      "source": [
        "Vizualizam istoria pretului maxim al actiunii din fiecare zi:"
      ],
      "metadata": {
        "id": "Q__GSFGN8Epu"
      }
    },
    {
      "cell_type": "code",
      "source": [
        "plt.figure(figsize=(16, 8))\n",
        "plt.title('Max Price')\n",
        "plt.plot(df['High'])\n",
        "plt.xlabel('Date', fontsize=18)\n",
        "plt.ylabel('Max Price', fontsize=18)\n",
        "plt.show()"
      ],
      "metadata": {
        "colab": {
          "base_uri": "https://localhost:8080/",
          "height": 604
        },
        "id": "sMN_kSCd8Gql",
        "outputId": "f7aeb5fb-c8f9-4608-ee95-438dac14eceb"
      },
      "execution_count": 25,
      "outputs": [
        {
          "output_type": "display_data",
          "data": {
            "text/plain": [
              "<Figure size 1280x640 with 1 Axes>"
            ],
            "image/png": "[encoded data removed]"
          },
          "metadata": {}
        }
      ]
    },
    {
      "cell_type": "markdown",
      "source": [
        "Cream un nou dataframe doar cu coloana 'High', corespunzatoare pretului maxim din fiecare zi"
      ],
      "metadata": {
        "id": "T4SZlrjMAENo"
      }
    },
    {
      "cell_type": "code",
      "source": [
        "data = df.filter(['High'])\n",
        "dataset = data.values\n",
        "print(dataset)"
      ],
      "metadata": {
        "colab": {
          "base_uri": "https://localhost:8080/"
        },
        "id": "c7aVA8sjAOk1",
        "outputId": "c07e2d26-31c8-4783-e06d-77766504f5fc"
      },
      "execution_count": 26,
      "outputs": [
        {
          "output_type": "stream",
          "name": "stdout",
          "text": [
            "[[  1.96666706]\n",
            " [  1.91133296]\n",
            " [  1.86199999]\n",
            " ...\n",
            " [114.38999939]\n",
            " [123.51999664]\n",
            " [122.76000214]]\n"
          ]
        }
      ]
    },
    {
      "cell_type": "markdown",
      "source": [
        "Antrenam modelul pe 82% din date"
      ],
      "metadata": {
        "id": "TTYGABovAqoX"
      }
    },
    {
      "cell_type": "code",
      "source": [
        "training_data_len = math.ceil(len(dataset) * 0.82)\n",
        "print(training_data_len)"
      ],
      "metadata": {
        "colab": {
          "base_uri": "https://localhost:8080/"
        },
        "id": "eYP-TCD1A-6j",
        "outputId": "31f34079-cdf1-41b7-eeb5-eea37b4e8154"
      },
      "execution_count": 27,
      "outputs": [
        {
          "output_type": "stream",
          "name": "stdout",
          "text": [
            "2275\n"
          ]
        }
      ]
    },
    {
      "cell_type": "markdown",
      "source": [
        "Scalam datele pentru a fi in intervalul [0, 1]"
      ],
      "metadata": {
        "id": "Xk2yNmncBJnL"
      }
    },
    {
      "cell_type": "code",
      "source": [
        "scaler = MinMaxScaler(feature_range=(0, 1))\n",
        "scaled_data = scaler.fit_transform(dataset)\n",
        "print(scaled_data)"
      ],
      "metadata": {
        "colab": {
          "base_uri": "https://localhost:8080/"
        },
        "id": "3WmO9MPfBS-r",
        "outputId": "72a5e307-aee7-4934-d260-5d68adde2881"
      },
      "execution_count": 28,
      "outputs": [
        {
          "output_type": "stream",
          "name": "stdout",
          "text": [
            "[[4.28069390e-04]\n",
            " [2.93993315e-04]\n",
            " [1.74458111e-04]\n",
            " ...\n",
            " [2.72832999e-01]\n",
            " [2.94955242e-01]\n",
            " [2.93113753e-01]]\n"
          ]
        }
      ]
    },
    {
      "cell_type": "markdown",
      "source": [
        "Cream setul de date pentru antrenat:\n",
        "x_train vor fi \"training features\", iar y_train vor fi \"target features\""
      ],
      "metadata": {
        "id": "ySaeUm8cB_Us"
      }
    },
    {
      "cell_type": "code",
      "source": [
        "train_data = scaled_data[0: training_data_len]\n",
        "#print(train_data)\n",
        "x_train = []\n",
        "y_train = []\n",
        "for i in range(60, len(train_data)):\n",
        "  x_train.append(train_data[i-60:i, 0])\n",
        "  y_train.append(train_data[i, 0])\n",
        "\n",
        "#print(x_train)\n",
        "#print(y_train)"
      ],
      "metadata": {
        "id": "FTcEvY8XB9R_"
      },
      "execution_count": 29,
      "outputs": []
    },
    {
      "cell_type": "markdown",
      "source": [
        "Convertim x_train si y_train sa fie array-uri din numpy"
      ],
      "metadata": {
        "id": "xK_dFBHMEPvE"
      }
    },
    {
      "cell_type": "code",
      "source": [
        "x_train, y_train = np.array(x_train), np.array(y_train)\n",
        "#print(x_train)\n",
        "#print(y_train)"
      ],
      "metadata": {
        "id": "iN4jYCBZEVP_"
      },
      "execution_count": 30,
      "outputs": []
    },
    {
      "cell_type": "markdown",
      "source": [
        "Construim modelul LSTM"
      ],
      "metadata": {
        "id": "wfeuoZFkGbNy"
      }
    },
    {
      "cell_type": "code",
      "source": [
        "model = Sequential()\n",
        "model.add(Dense(32, input_shape=(x_train.shape[1],), activation='relu'))\n",
        "model.add(Dense(16, activation='relu'))\n",
        "model.add(Dense(1))"
      ],
      "metadata": {
        "id": "KHzEIHSQGdIk"
      },
      "execution_count": 31,
      "outputs": []
    },
    {
      "cell_type": "markdown",
      "source": [
        "Compilam si antrenam modelul"
      ],
      "metadata": {
        "id": "Pquq7lsDJfML"
      }
    },
    {
      "cell_type": "code",
      "source": [
        "model.compile(optimizer='adam', loss='mean_squared_error')"
      ],
      "metadata": {
        "id": "46i4GpbmJg4f"
      },
      "execution_count": 32,
      "outputs": []
    },
    {
      "cell_type": "code",
      "source": [
        "model.fit(x_train, y_train, batch_size=1, epochs=1)"
      ],
      "metadata": {
        "colab": {
          "base_uri": "https://localhost:8080/"
        },
        "id": "pwqbpfP9J4s8",
        "outputId": "4aad96a0-ebe1-4122-bbbd-645d9ca60c01"
      },
      "execution_count": 33,
      "outputs": [
        {
          "output_type": "stream",
          "name": "stdout",
          "text": [
            "2215/2215 [==============================] - 4s 2ms/step - loss: 3.9171e-04\n"
          ]
        },
        {
          "output_type": "execute_result",
          "data": {
            "text/plain": [
              "<keras.callbacks.History at 0x7f8da29de3d0>"
            ]
          },
          "metadata": {},
          "execution_count": 33
        }
      ]
    },
    {
      "cell_type": "markdown",
      "source": [
        "Cream setul de date pentru test"
      ],
      "metadata": {
        "id": "XKs0MBzTwqGw"
      }
    },
    {
      "cell_type": "code",
      "source": [
        "test_data = scaled_data[training_data_len - 60:]\n",
        "#print(test_data)\n",
        "x_test = []\n",
        "y_test = dataset[training_data_len:] #valorile pe care vrem sa le prezica\n",
        "for i in range(60, len(test_data)):\n",
        "  x_test.append(test_data[i-60:i, 0])"
      ],
      "metadata": {
        "id": "HHpZ4nTlwno9"
      },
      "execution_count": 34,
      "outputs": []
    },
    {
      "cell_type": "markdown",
      "source": [
        "Convertim datele sa fie sub forma de array numpy"
      ],
      "metadata": {
        "id": "yOHW25seKSlA"
      }
    },
    {
      "cell_type": "code",
      "source": [
        "x_test = np.array(x_test)\n",
        "print(x_test.shape)"
      ],
      "metadata": {
        "colab": {
          "base_uri": "https://localhost:8080/"
        },
        "id": "1858LPuaKWBC",
        "outputId": "ad828432-ce4a-4c93-d4cb-dc420ba2a779"
      },
      "execution_count": 35,
      "outputs": [
        {
          "output_type": "stream",
          "name": "stdout",
          "text": [
            "(499, 60)\n"
          ]
        }
      ]
    },
    {
      "cell_type": "markdown",
      "source": [
        "Luam valorile de pret prezise de model"
      ],
      "metadata": {
        "id": "PMVSG4WpLkgS"
      }
    },
    {
      "cell_type": "code",
      "source": [
        "predictions = model.predict(x_test)\n",
        "predictions = scaler.inverse_transform(predictions) #facem un unscale la valori, astfel incat sa contina valori "
      ],
      "metadata": {
        "colab": {
          "base_uri": "https://localhost:8080/"
        },
        "id": "OgfLkd_oLq-p",
        "outputId": "474dcddd-0be5-4675-cde4-ad574e59377e"
      },
      "execution_count": 36,
      "outputs": [
        {
          "output_type": "stream",
          "name": "stdout",
          "text": [
            "16/16 [==============================] - 0s 2ms/step\n"
          ]
        }
      ]
    },
    {
      "cell_type": "markdown",
      "source": [
        "Luam root mean squred error"
      ],
      "metadata": {
        "id": "tP9OrEd_L__d"
      }
    },
    {
      "cell_type": "code",
      "source": [
        "rmse = np.sqrt(np.mean(predictions - y_test)**2)\n",
        "print(rmse)"
      ],
      "metadata": {
        "colab": {
          "base_uri": "https://localhost:8080/"
        },
        "id": "O3DyRzRSL_MQ",
        "outputId": "ff9649fb-29e2-48f8-9bb3-fd858b5b7c7d"
      },
      "execution_count": 37,
      "outputs": [
        {
          "output_type": "stream",
          "name": "stdout",
          "text": [
            "50.449077766739535\n"
          ]
        }
      ]
    },
    {
      "cell_type": "markdown",
      "source": [
        "Afisam datele"
      ],
      "metadata": {
        "id": "23z8eApjMWjp"
      }
    },
    {
      "cell_type": "code",
      "source": [
        "train = data[:training_data_len]\n",
        "valid = data[training_data_len:]\n",
        "valid['Predictions'] = predictions\n",
        "#Vizualizam datele\n",
        "plt.figure(figsize=(16, 8))\n",
        "plt.title('Model')\n",
        "plt.xlabel('Date', fontsize=18)\n",
        "plt.ylabel('High Price', fontsize=18)\n",
        "plt.plot(train['High'])\n",
        "plt.plot(valid[['High', 'Predictions']])\n",
        "plt.legend(['Antrenament', 'Valorile adevarate', 'Predictii'], loc='upper left')\n",
        "plt.show()\n",
        "print(valid)"
      ],
      "metadata": {
        "colab": {
          "base_uri": "https://localhost:8080/",
          "height": 987
        },
        "id": "tiuSp7_3MXwM",
        "outputId": "619a320d-5e8e-4e00-9159-564aecd082a3"
      },
      "execution_count": 39,
      "outputs": [
        {
          "output_type": "stream",
          "name": "stderr",
          "text": [
            "<ipython-input-39-8fab107ca1e1>:3: SettingWithCopyWarning: \n",
            "A value is trying to be set on a copy of a slice from a DataFrame.\n",
            "Try using .loc[row_indexer,col_indexer] = value instead\n",
            "\n",
            "See the caveats in the documentation: https://pandas.pydata.org/pandas-docs/stable/user_guide/indexing.html#returning-a-view-versus-a-copy\n",
            "  valid['Predictions'] = predictions\n"
          ]
        },
        {
          "output_type": "display_data",
          "data": {
            "text/plain": [
              "<Figure size 1280x640 with 1 Axes>"
            ],
            "image/png": "[encoded data removed]"
          },
          "metadata": {}
        },
        {
          "output_type": "stream",
          "name": "stdout",
          "text": [
            "                                 High  Predictions\n",
            "Date                                              \n",
            "2021-01-19 00:00:00-05:00  283.333344   283.089233\n",
            "2021-01-20 00:00:00-05:00  286.500000   284.012756\n",
            "2021-01-21 00:00:00-05:00  285.239990   291.324585\n",
            "2021-01-22 00:00:00-05:00  282.666656   290.747375\n",
            "2021-01-25 00:00:00-05:00  300.133331   290.290955\n",
            "...                               ...          ...\n",
            "2023-01-04 00:00:00-05:00  114.589996   186.955261\n",
            "2023-01-05 00:00:00-05:00  111.750000   182.555542\n",
            "2023-01-06 00:00:00-05:00  114.389999   179.828308\n",
            "2023-01-09 00:00:00-05:00  123.519997   183.127350\n",
            "2023-01-10 00:00:00-05:00  122.760002   180.385284\n",
            "\n",
            "[499 rows x 2 columns]\n"
          ]
        }
      ]
    },
    {
      "cell_type": "markdown",
      "source": [
        "Incercam sa prezicem valoarea pentru ziua urmatoare\n",
        "\n"
      ],
      "metadata": {
        "id": "chuwrH-cN_Sm"
      }
    },
    {
      "cell_type": "code",
      "source": [
        "print(x_test)\n",
        "print(x_test.shape)"
      ],
      "metadata": {
        "colab": {
          "base_uri": "https://localhost:8080/"
        },
        "id": "C1i9YFMKGkYn",
        "outputId": "bde5aaf0-a304-473f-9d1c-d1f1cd56a71a"
      },
      "execution_count": 40,
      "outputs": [
        {
          "output_type": "stream",
          "name": "stdout",
          "text": [
            "[[0.34534616 0.35526444 0.33722094 ... 0.69064387 0.69268726 0.69018349]\n",
            " [0.35526444 0.33722094 0.33953897 ... 0.69268726 0.69018349 0.68218752]\n",
            " [0.33722094 0.33953897 0.34336736 ... 0.69018349 0.68218752 0.68986042]\n",
            " ...\n",
            " [0.54266145 0.52703292 0.5359739  ... 0.28351856 0.2733176  0.26643621]\n",
            " [0.52703292 0.5359739  0.54389718 ... 0.2733176  0.26643621 0.272833  ]\n",
            " [0.5359739  0.54389718 0.53323587 ... 0.26643621 0.272833   0.29495524]]\n",
            "(499, 60)\n"
          ]
        }
      ]
    },
    {
      "cell_type": "code",
      "source": [
        "df2 = yf.download(tickers=company, start=start, end=end)\n",
        "high_df = df2.filter(['High'])\n",
        "#luam valorile din ultimele 60 zile si convertim df in array\n",
        "\n",
        "\n",
        "\n",
        "last_60_days = high_df[-60:].values\n",
        "#scalam datele sa fie intre 0 si 1\n",
        "last_60_days_scaled = scaler.transform(last_60_days)\n",
        "\n",
        "X_test = [day[0] for day in last_60_days_scaled]\n",
        "X_test = np.array([X_test])\n",
        "\n",
        "pred_price = model.predict(X_test)\n",
        "pred_price = scaler.inverse_transform(pred_price)\n",
        "print(pred_price)"
      ],
      "metadata": {
        "colab": {
          "base_uri": "https://localhost:8080/"
        },
        "id": "qvuiW2xbOD81",
        "outputId": "a169953f-0134-4173-e37a-9bb22b793fa1"
      },
      "execution_count": 41,
      "outputs": [
        {
          "output_type": "stream",
          "name": "stdout",
          "text": [
            "[*********************100%***********************]  1 of 1 completed\n",
            "1/1 [==============================] - 0s 18ms/step\n",
            "[[177.44388]]\n"
          ]
        }
      ]
    },
    {
      "cell_type": "code",
      "source": [
        "df3 = yf.download(tickers=company, start=end, end=end + timedelta(days=1))\n",
        "print(df3.filter(['High']))"
      ],
      "metadata": {
        "colab": {
          "base_uri": "https://localhost:8080/"
        },
        "id": "9i9OsA1SR7ze",
        "outputId": "7be58d9a-834d-4015-f3c6-409d48594bef"
      },
      "execution_count": 42,
      "outputs": [
        {
          "output_type": "stream",
          "name": "stdout",
          "text": [
            "\r[*********************100%***********************]  1 of 1 completed\n",
            "                                 High\n",
            "Date                                 \n",
            "2023-01-11 00:00:00-05:00  125.949997\n"
          ]
        }
      ]
    }
  ]
}